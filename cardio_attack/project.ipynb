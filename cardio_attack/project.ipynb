{
 "cells": [
  {
   "cell_type": "code",
   "execution_count": 36,
   "metadata": {},
   "outputs": [],
   "source": [
    "import numpy as np\n",
    "import pandas as pd\n",
    "import matplotlib.pyplot as plt\n",
    "%matplotlib inline\n",
    "\n",
    "# preprocessing\n",
    "from sklearn.preprocessing import LabelEncoder\n",
    "from sklearn.model_selection import train_test_split, cross_val_score, GridSearchCV\n",
    "# import pandas_profiling as pp\n",
    "\n",
    "\n",
    "# NN models\n",
    "import keras\n",
    "from keras.models import Sequential\n",
    "from keras.layers import Dense, Dropout\n",
    "from keras import optimizers\n",
    "from keras.wrappers.scikit_learn import KerasClassifier\n",
    "from keras.callbacks import EarlyStopping, ModelCheckpoint\n",
    "\n",
    "# import warnings filter\n",
    "from warnings import simplefilter\n",
    "# ignore all future warnings\n",
    "simplefilter(action='ignore', category=FutureWarning)"
   ]
  },
  {
   "cell_type": "code",
   "execution_count": 37,
   "metadata": {},
   "outputs": [],
   "source": [
    "data = pd.read_csv(\"cardio_train.csv\", sep=\";\")"
   ]
  },
  {
   "cell_type": "code",
   "execution_count": 38,
   "metadata": {},
   "outputs": [
    {
     "data": {
      "text/plain": [
       "68983"
      ]
     },
     "execution_count": 38,
     "metadata": {},
     "output_type": "execute_result"
    }
   ],
   "source": [
    "\n",
    "data.drop(\"id\",axis=1,inplace=True)\n",
    "data.drop_duplicates(inplace=True)\n",
    "\n",
    "# feature extraction\n",
    "data[\"bmi\"] = data[\"weight\"] / (data[\"height\"]/100)**2\n",
    "out_filter = ((data[\"ap_hi\"]>250) | (data[\"ap_lo\"]>200))\n",
    "data = data[~out_filter]\n",
    "len(data)"
   ]
  },
  {
   "cell_type": "code",
   "execution_count": 39,
   "metadata": {},
   "outputs": [],
   "source": [
    "# filtering\n",
    "out_filter2 = ((data[\"ap_hi\"] < 0) | (data[\"ap_lo\"] < 0))\n",
    "data = data[~out_filter2]"
   ]
  },
  {
   "cell_type": "code",
   "execution_count": 40,
   "metadata": {},
   "outputs": [
    {
     "name": "stdout",
     "output_type": "stream",
     "text": [
      "<class 'pandas.core.frame.DataFrame'>\n",
      "Int64Index: 68975 entries, 0 to 69999\n",
      "Data columns (total 13 columns):\n",
      " #   Column       Non-Null Count  Dtype  \n",
      "---  ------       --------------  -----  \n",
      " 0   age          68975 non-null  int64  \n",
      " 1   gender       68975 non-null  int64  \n",
      " 2   height       68975 non-null  int64  \n",
      " 3   weight       68975 non-null  float64\n",
      " 4   ap_hi        68975 non-null  int64  \n",
      " 5   ap_lo        68975 non-null  int64  \n",
      " 6   cholesterol  68975 non-null  int64  \n",
      " 7   gluc         68975 non-null  int64  \n",
      " 8   smoke        68975 non-null  int64  \n",
      " 9   alco         68975 non-null  int64  \n",
      " 10  active       68975 non-null  int64  \n",
      " 11  cardio       68975 non-null  int64  \n",
      " 12  bmi          68975 non-null  float64\n",
      "dtypes: float64(2), int64(11)\n",
      "memory usage: 7.4 MB\n"
     ]
    }
   ],
   "source": [
    "data.info()"
   ]
  },
  {
   "cell_type": "code",
   "execution_count": 41,
   "metadata": {},
   "outputs": [],
   "source": [
    "target_name = 'cardio'\n",
    "data_target = data[target_name]\n",
    "data = data.drop([target_name], axis=1)"
   ]
  },
  {
   "cell_type": "code",
   "execution_count": 42,
   "metadata": {},
   "outputs": [],
   "source": [
    "train, test, target, target_test = train_test_split(data, data_target, test_size=0.2, random_state=0)"
   ]
  },
  {
   "cell_type": "code",
   "execution_count": 43,
   "metadata": {},
   "outputs": [
    {
     "name": "stdout",
     "output_type": "stream",
     "text": [
      "<class 'pandas.core.frame.DataFrame'>\n",
      "Int64Index: 55180 entries, 31684 to 69281\n",
      "Data columns (total 12 columns):\n",
      " #   Column       Non-Null Count  Dtype  \n",
      "---  ------       --------------  -----  \n",
      " 0   age          55180 non-null  int64  \n",
      " 1   gender       55180 non-null  int64  \n",
      " 2   height       55180 non-null  int64  \n",
      " 3   weight       55180 non-null  float64\n",
      " 4   ap_hi        55180 non-null  int64  \n",
      " 5   ap_lo        55180 non-null  int64  \n",
      " 6   cholesterol  55180 non-null  int64  \n",
      " 7   gluc         55180 non-null  int64  \n",
      " 8   smoke        55180 non-null  int64  \n",
      " 9   alco         55180 non-null  int64  \n",
      " 10  active       55180 non-null  int64  \n",
      " 11  bmi          55180 non-null  float64\n",
      "dtypes: float64(2), int64(10)\n",
      "memory usage: 5.5 MB\n"
     ]
    }
   ],
   "source": [
    "train.info()\n"
   ]
  },
  {
   "cell_type": "code",
   "execution_count": null,
   "metadata": {},
   "outputs": [],
   "source": [
    "\n"
   ]
  },
  {
   "cell_type": "code",
   "execution_count": 44,
   "metadata": {},
   "outputs": [],
   "source": [
    "#%% split training set to validation set\n",
    "Xtrain, Xval, Ztrain, Zval = train_test_split(train, target, test_size=0.2, random_state=0)\n"
   ]
  },
  {
   "cell_type": "code",
   "execution_count": 45,
   "metadata": {},
   "outputs": [],
   "source": [
    "def build_ann(optimizer='adam'):\n",
    "    \n",
    "    # Initializing the ANN\n",
    "    ann = Sequential()\n",
    "    \n",
    "    # Adding the input layer and the first hidden layer of the ANN with dropout\n",
    "    ann.add(Dense(units=32, kernel_initializer='glorot_uniform', activation='relu', input_shape=(len(train.columns),)))\n",
    "    \n",
    "    # Add other layers, it is not necessary to pass the shape because there is a layer before\n",
    "    ann.add(Dense(units=64, kernel_initializer='glorot_uniform', activation='relu'))\n",
    "    ann.add(Dropout(rate=0.5))\n",
    "    ann.add(Dense(units=64, kernel_initializer='glorot_uniform', activation='relu'))\n",
    "    ann.add(Dropout(rate=0.5))\n",
    "    \n",
    "    # Adding the output layer\n",
    "    ann.add(Dense(units=1, kernel_initializer='glorot_uniform', activation='sigmoid'))\n",
    "    \n",
    "    # Compiling the ANN\n",
    "    ann.compile(optimizer=optimizer, loss='binary_crossentropy', metrics=['accuracy'])\n",
    "    \n",
    "    return ann"
   ]
  },
  {
   "cell_type": "code",
   "execution_count": 47,
   "metadata": {},
   "outputs": [
    {
     "name": "stderr",
     "output_type": "stream",
     "text": [
      "c:\\Python310\\lib\\site-packages\\keras\\optimizers\\legacy\\adam.py:117: UserWarning: The `lr` argument is deprecated, use `learning_rate` instead.\n",
      "  super().__init__(name, **kwargs)\n"
     ]
    },
    {
     "name": "stdout",
     "output_type": "stream",
     "text": [
      "Epoch 1/20\n",
      "2759/2759 [==============================] - 9s 3ms/step - loss: 41.1823 - accuracy: 0.5057 - val_loss: 0.6930 - val_accuracy: 0.5097\n",
      "Epoch 2/20\n",
      "2759/2759 [==============================] - 8s 3ms/step - loss: 0.6931 - accuracy: 0.5059 - val_loss: 0.6930 - val_accuracy: 0.5097\n",
      "Epoch 3/20\n",
      "2759/2759 [==============================] - 8s 3ms/step - loss: 0.6931 - accuracy: 0.5052 - val_loss: 0.6930 - val_accuracy: 0.5097\n",
      "Epoch 4/20\n",
      "2759/2759 [==============================] - 8s 3ms/step - loss: 0.6931 - accuracy: 0.5046 - val_loss: 0.6930 - val_accuracy: 0.5097\n",
      "Epoch 5/20\n",
      "2759/2759 [==============================] - 8s 3ms/step - loss: 0.6931 - accuracy: 0.5059 - val_loss: 0.6931 - val_accuracy: 0.5097\n",
      "Epoch 6/20\n",
      "2759/2759 [==============================] - 8s 3ms/step - loss: 0.6931 - accuracy: 0.5059 - val_loss: 0.6930 - val_accuracy: 0.5097\n",
      "Epoch 7/20\n",
      "2759/2759 [==============================] - 8s 3ms/step - loss: 0.6931 - accuracy: 0.5044 - val_loss: 0.6930 - val_accuracy: 0.5097\n",
      "Epoch 8/20\n",
      "2759/2759 [==============================] - 8s 3ms/step - loss: 0.6931 - accuracy: 0.5049 - val_loss: 0.6930 - val_accuracy: 0.5097\n",
      "Epoch 9/20\n",
      "2759/2759 [==============================] - 8s 3ms/step - loss: 0.6931 - accuracy: 0.5052 - val_loss: 0.6930 - val_accuracy: 0.5097\n",
      "Epoch 10/20\n",
      "2759/2759 [==============================] - 9s 3ms/step - loss: 0.6931 - accuracy: 0.5053 - val_loss: 0.6930 - val_accuracy: 0.5097\n",
      "Epoch 11/20\n",
      "2759/2759 [==============================] - 9s 3ms/step - loss: 0.6931 - accuracy: 0.5045 - val_loss: 0.6930 - val_accuracy: 0.5097\n",
      "Epoch 12/20\n",
      "2759/2759 [==============================] - 8s 3ms/step - loss: 0.6931 - accuracy: 0.5059 - val_loss: 0.6930 - val_accuracy: 0.5097\n",
      "Epoch 13/20\n",
      "2759/2759 [==============================] - 9s 3ms/step - loss: 0.6931 - accuracy: 0.5036 - val_loss: 0.6930 - val_accuracy: 0.5097\n",
      "Epoch 14/20\n",
      "2759/2759 [==============================] - 8s 3ms/step - loss: 0.6931 - accuracy: 0.5040 - val_loss: 0.6930 - val_accuracy: 0.5097\n",
      "Epoch 15/20\n",
      "2759/2759 [==============================] - 8s 3ms/step - loss: 0.6931 - accuracy: 0.5051 - val_loss: 0.6930 - val_accuracy: 0.5097\n",
      "Epoch 16/20\n",
      "2759/2759 [==============================] - 8s 3ms/step - loss: 0.6931 - accuracy: 0.5054 - val_loss: 0.6930 - val_accuracy: 0.5097\n",
      "Epoch 17/20\n",
      "2759/2759 [==============================] - 8s 3ms/step - loss: 0.6931 - accuracy: 0.5049 - val_loss: 0.6930 - val_accuracy: 0.5097\n",
      "Epoch 18/20\n",
      "2759/2759 [==============================] - 8s 3ms/step - loss: 0.6931 - accuracy: 0.5055 - val_loss: 0.6930 - val_accuracy: 0.5097\n",
      "Epoch 19/20\n",
      "2759/2759 [==============================] - 8s 3ms/step - loss: 0.6931 - accuracy: 0.5053 - val_loss: 0.6930 - val_accuracy: 0.5097\n",
      "Epoch 20/20\n",
      "2759/2759 [==============================] - 8s 3ms/step - loss: 0.6931 - accuracy: 0.5053 - val_loss: 0.6930 - val_accuracy: 0.5097\n"
     ]
    }
   ],
   "source": [
    "opt = optimizers.Adam(lr=0.001)\n",
    "ann = build_ann(opt)\n",
    "# Training the ANN\n",
    "history = ann.fit(Xtrain, Ztrain, batch_size=16, epochs=20, validation_data=(Xval, Zval))"
   ]
  },
  {
   "cell_type": "code",
   "execution_count": 48,
   "metadata": {},
   "outputs": [
    {
     "name": "stdout",
     "output_type": "stream",
     "text": [
      "1725/1725 [==============================] - 3s 2ms/step\n"
     ]
    },
    {
     "data": {
      "text/plain": [
       "50.67"
      ]
     },
     "execution_count": 48,
     "metadata": {},
     "output_type": "execute_result"
    }
   ],
   "source": [
    "# Predicting the Train set results\n",
    "ann_prediction = ann.predict(train)\n",
    "ann_prediction = (ann_prediction > 0.5)*1 # convert probabilities to binary output\n",
    "from sklearn.metrics import accuracy_score\n",
    "# Compute error between predicted data and true response and display it in confusion matrix\n",
    "acc_ann1 = round(accuracy_score(target, ann_prediction) * 100, 2)\n",
    "acc_ann1"
   ]
  },
  {
   "cell_type": "code",
   "execution_count": 49,
   "metadata": {},
   "outputs": [
    {
     "name": "stdout",
     "output_type": "stream",
     "text": [
      "432/432 [==============================] - 1s 2ms/step\n"
     ]
    },
    {
     "data": {
      "text/plain": [
       "49.85"
      ]
     },
     "execution_count": 49,
     "metadata": {},
     "output_type": "execute_result"
    }
   ],
   "source": [
    "\n",
    "\n",
    "# Predicting the Test set results\n",
    "ann_prediction_test = ann.predict(test)\n",
    "ann_prediction_test = (ann_prediction_test > 0.5)*1 # convert probabilities to binary output\n",
    "\n",
    "# Compute error between predicted data and true response and display it in confusion matrix\n",
    "acc_test_ann1 = round(accuracy_score(target_test, ann_prediction_test) * 100, 2)\n",
    "acc_test_ann1"
   ]
  },
  {
   "cell_type": "code",
   "execution_count": 54,
   "metadata": {},
   "outputs": [
    {
     "name": "stdout",
     "output_type": "stream",
     "text": [
      "1/1 [==============================] - 0s 219ms/step\n"
     ]
    },
    {
     "data": {
      "text/plain": [
       "array([[0.0094826]], dtype=float32)"
      ]
     },
     "execution_count": 54,
     "metadata": {},
     "output_type": "execute_result"
    }
   ],
   "source": [
    "single_inp = [[50, 1, 150, 75, 120, 90, 1, 1, 1, 1, 1, 24.62300]]\n",
    "out = ann.predict(single_inp)\n",
    "out"
   ]
  }
 ],
 "metadata": {
  "kernelspec": {
   "display_name": "Python 3",
   "language": "python",
   "name": "python3"
  },
  "language_info": {
   "codemirror_mode": {
    "name": "ipython",
    "version": 3
   },
   "file_extension": ".py",
   "mimetype": "text/x-python",
   "name": "python",
   "nbconvert_exporter": "python",
   "pygments_lexer": "ipython3",
   "version": "3.10.7"
  },
  "orig_nbformat": 4
 },
 "nbformat": 4,
 "nbformat_minor": 2
}
